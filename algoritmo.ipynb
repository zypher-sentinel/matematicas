{
 "cells": [
  {
   "cell_type": "markdown",
   "id": "4a06a4b3",
   "metadata": {},
   "source": [
    "# **Representación de Figuras Planas y Sólidos Regulares**\n",
    "\n",
    "\n",
    "---\n",
    "\n",
    "## **Algoritmo para el cálculo de áreas y volúmenes.**\n",
    "### Autor: Jhordy Alexander Naranjo Arboleda\n",
    "### Cedula: 1037638480\n",
    "### Ficha: 3118532\n",
    "### Evidencia: **GA2-240201528-AA4-EV01**\n",
    "### Fecha: Julio 07 2025"
   ]
  },
  {
   "cell_type": "markdown",
   "id": "c735c3cf",
   "metadata": {},
   "source": [
    "## Introducción\n",
    "\n",
    "Este proyecto tiene como objetivo representar visual e interactivamente cinco figuras planas y cinco sólidos regulares.\n",
    "Para cada uno se calculará el área o volumen, respectivamente, utilizando algoritmos desarrollados en Python.\n",
    "La aplicación usa controles interactivos para modificar dimensiones y observar los cambios en tiempo real."
   ]
  },
  {
   "cell_type": "code",
   "execution_count": 14,
   "id": "cb6ec45b",
   "metadata": {},
   "outputs": [
    {
     "name": "stdout",
     "output_type": "stream",
     "text": [
      "--- FIGURAS PLANAS ---\n"
     ]
    }
   ],
   "source": [
    "import numpy as np\n",
    "import matplotlib.pyplot as plt\n",
    "from ipywidgets import interact, FloatSlider\n",
    "from mpl_toolkits.mplot3d.art3d import Poly3DCollection\n",
    "import warnings\n",
    "\n",
    "warnings.filterwarnings('ignore')\n",
    "\n",
    "# ----------------------------------\n",
    "# SECCIÓN 1: FIGURAS PLANAS\n",
    "# ----------------------------------\n",
    "\n",
    "print(\"--- FIGURAS PLANAS ---\")\n",
    "\n",
    "# 1. Círculo 🔵\n",
    "def plot_interactive_circle(radius):\n",
    "    # Fórmula: A = π * r^2\n",
    "    # El área es pi por el radio elevado al cuadrado.\n",
    "    area = np.pi * radius**2\n",
    "    fig, ax = plt.subplots(figsize=(5, 5))\n",
    "    circle = plt.Circle((0, 0), radius, color='royalblue', alpha=0.6)\n",
    "    ax.add_artist(circle)\n",
    "    ax.set_xlim(-15, 15); ax.set_ylim(-15, 15)\n",
    "    ax.set_aspect('equal', adjustable='box')\n",
    "    ax.set_title(f\"Círculo\\nRadio = {radius:.2f} | Área = {area:.2f}\")\n",
    "    ax.grid(True, linestyle='--', alpha=0.6)\n",
    "    plt.show()\n",
    "\n",
    "# 2. Cuadrado 🟪\n",
    "def plot_interactive_square(side):\n",
    "    # Fórmula: A = l^2\n",
    "    # El área es el lado elevado al cuadrado.\n",
    "    area = side**2\n",
    "    fig, ax = plt.subplots(figsize=(5, 5))\n",
    "    square = plt.Rectangle((0, 0), side, side, color='purple', alpha=0.7)\n",
    "    ax.add_patch(square)\n",
    "    lim = side * 1.2\n",
    "    ax.set_xlim(-lim*0.1, lim); ax.set_ylim(-lim*0.1, lim)\n",
    "    ax.set_aspect('equal', adjustable='box')\n",
    "    ax.set_title(f\"Cuadrado\\nLado = {side:.2f} | Área = {area:.2f}\")\n",
    "    ax.grid(True, linestyle='--', alpha=0.6)\n",
    "    plt.show()\n",
    "\n",
    "# 3. Rectángulo 🟧\n",
    "def plot_interactive_rectangle(base, height):\n",
    "    # Fórmula: A = b * h\n",
    "    # El área es la base multiplicada por la altura.\n",
    "    area = base * height\n",
    "    fig, ax = plt.subplots(figsize=(6, 5))\n",
    "    rect = plt.Rectangle((0, 0), base, height, color='darkorange', alpha=0.7)\n",
    "    ax.add_patch(rect)\n",
    "    lim = max(base, height) * 1.2\n",
    "    ax.set_xlim(-lim*0.1, lim); ax.set_ylim(-lim*0.1, lim)\n",
    "    ax.set_aspect('equal', adjustable='box')\n",
    "    ax.set_title(f\"Rectángulo\\nBase = {base:.2f}, Altura = {height:.2f} | Área = {area:.2f}\")\n",
    "    ax.grid(True, linestyle='--', alpha=0.6)\n",
    "    plt.show()\n",
    "\n",
    "# 4. Triángulo 🔺\n",
    "def plot_interactive_triangle(base, height):\n",
    "    # Fórmula: A = (1/2) * b * h\n",
    "    # El área es la mitad de la base por la altura.\n",
    "    area = 0.5 * base * height\n",
    "    fig, ax = plt.subplots(figsize=(5, 5))\n",
    "    triangle = plt.Polygon([[0, 0], [base, 0], [base / 2, height]], color='crimson', alpha=0.7)\n",
    "    ax.add_patch(triangle)\n",
    "    lim = max(base, height) * 1.2\n",
    "    ax.set_xlim(-lim*0.1, lim); ax.set_ylim(-lim*0.1, lim)\n",
    "    ax.set_aspect('equal', adjustable='box')\n",
    "    ax.set_title(f\"Triángulo\\nBase = {base:.2f}, Altura = {height:.2f} | Área = {area:.2f}\")\n",
    "    ax.grid(True, linestyle='--', alpha=0.6)\n",
    "    plt.show()\n",
    "\n",
    "# 5. Rombo 🔷\n",
    "def plot_interactive_rhombus(d_major, d_minor):\n",
    "    # Fórmula: A = (D * d) / 2\n",
    "    # El área es la diagonal mayor por la diagonal menor, dividido entre dos.\n",
    "    area = (d_major * d_minor) / 2\n",
    "    fig, ax = plt.subplots(figsize=(6, 6))\n",
    "    half_maj = d_major / 2; half_min = d_minor / 2\n",
    "    rhombus = plt.Polygon([[0, half_min], [half_maj, 0], [0, -half_min], [-half_maj, 0]], color='deepskyblue', alpha=0.7)\n",
    "    ax.add_patch(rhombus)\n",
    "    lim = max(d_major, d_minor) * 0.7\n",
    "    ax.set_xlim(-lim, lim); ax.set_ylim(-lim, lim)\n",
    "    ax.set_aspect('equal', adjustable='box')\n",
    "    ax.set_title(f\"Rombo\\nDiag. Mayor = {d_major:.2f}, Diag. Menor = {d_minor:.2f} | Área = {area:.2f}\")\n",
    "    ax.grid(True, linestyle='--', alpha=0.6)\n",
    "    plt.show()\n",
    "\n",
    "# ----------------------------------\n",
    "# SECCIÓN 2: SÓLIDOS REGULARES\n",
    "# ----------------------------------\n",
    "# 1. Cubo 🧊\n",
    "def plot_interactive_cube(side):\n",
    "    # Fórmula: V = l^3\n",
    "    # El volumen es el lado elevado al cubo.\n",
    "    volume = side**3\n",
    "    points = np.array([[0,0,0],[side,0,0],[side,side,0],[0,side,0],[0,0,side],[side,0,side],[side,side,side],[0,side,side]])\n",
    "    faces = [[points[0],points[1],points[5],points[4]],[points[7],points[6],points[2],points[3]],[points[0],points[3],points[7],points[4]],[points[1],points[2],points[6],points[5]],[points[4],points[5],points[6],points[7]],[points[0],points[1],points[2],points[3]]]\n",
    "    fig = plt.figure(figsize=(7, 7)); ax = fig.add_subplot(111, projection='3d')\n",
    "    ax.add_collection3d(Poly3DCollection(faces, facecolors='cyan', linewidths=1, edgecolors='r', alpha=.25))\n",
    "    ax.set_title(f\"Cubo\\nLado = {side:.2f} | Volumen = {volume:.2f}\")\n",
    "    ax.set_xlabel('X'); ax.set_ylabel('Y'); ax.set_zlabel('Z')\n",
    "    lim = side * 1.1\n",
    "    ax.set_xlim(0, lim); ax.set_ylim(0, lim); ax.set_zlim(0, lim)\n",
    "    plt.show()\n",
    "\n",
    "# 2. Esfera (Representación 2D) 🌐\n",
    "def plot_interactive_sphere(radius):\n",
    "    # Fórmula: V = (4/3) * π * r^3\n",
    "    # El volumen es cuatro tercios por pi por el radio elevado al cubo.\n",
    "    volume = (4/3) * np.pi * radius**3\n",
    "    fig, ax = plt.subplots(figsize=(5, 5))\n",
    "    circle = plt.Circle((0, 0), radius, color='coral', alpha=0.7)\n",
    "    ax.add_artist(circle)\n",
    "    ax.set_xlim(-12, 12); ax.set_ylim(-12, 12)\n",
    "    ax.set_aspect('equal', adjustable='box')\n",
    "    ax.set_title(f\"Esfera (Representación 2D)\\nRadio = {radius:.2f} | Volumen = {volume:.2f}\")\n",
    "    ax.grid(True, linestyle='--', alpha=0.6)\n",
    "    plt.show()\n",
    "\n",
    "# 3. Cilindro 🥫\n",
    "def plot_interactive_cylinder(radius, height):\n",
    "    # Fórmula: V = π * r^2 * h\n",
    "    # El volumen es pi por el radio al cuadrado, multiplicado por la altura.\n",
    "    volume = np.pi * radius**2 * height\n",
    "    fig = plt.figure(figsize=(7, 7)); ax = fig.add_subplot(111, projection='3d')\n",
    "    u, h_ = np.linspace(0, 2*np.pi, 50), np.linspace(0, height, 20)\n",
    "    x, y = radius * np.outer(np.cos(u), np.ones_like(h_)), radius * np.outer(np.sin(u), np.ones_like(h_))\n",
    "    z = np.outer(np.ones_like(u), h_)\n",
    "    ax.plot_surface(x, y, z, color='lightgreen', alpha=0.5)\n",
    "    ax.set_title(f\"Cilindro\\nRadio = {radius:.2f}, Altura = {height:.2f} | Volumen = {volume:.2f}\")\n",
    "    ax.set_xlabel('X'); ax.set_ylabel('Y'); ax.set_zlabel('Z')\n",
    "    lim = max(radius, height)\n",
    "    ax.set_xlim(-lim, lim); ax.set_ylim(-lim, lim); ax.set_zlim(0, lim * 1.1)\n",
    "    plt.show()\n",
    "\n",
    "# 4. Cono 🍦\n",
    "def plot_interactive_cone(radius, height):\n",
    "    # Fórmula: V = (1/3) * π * r^2 * h\n",
    "    # El volumen es un tercio de pi por el radio al cuadrado por la altura.\n",
    "    volume = (1/3) * np.pi * radius**2 * height\n",
    "    fig = plt.figure(figsize=(7, 7)); ax = fig.add_subplot(111, projection='3d')\n",
    "    theta, r = np.linspace(0, 2.*np.pi, 90), np.linspace(0, radius, 50)\n",
    "    T, R = np.meshgrid(theta, r)\n",
    "    X, Y = R * np.cos(T), R * np.sin(T)\n",
    "    Z = (np.sqrt(X**2 + Y**2) / radius) * height\n",
    "    ax.plot_surface(X, Y, Z, color=\"gold\", alpha=0.6)\n",
    "    ax.set_title(f\"Cono\\nRadio = {radius:.2f}, Altura = {height:.2f} | Volumen = {volume:.2f}\")\n",
    "    ax.set_xlabel('X'); ax.set_ylabel('Y'); ax.set_zlabel('Z')\n",
    "    lim = max(radius, height)\n",
    "    ax.set_xlim(-lim, lim); ax.set_ylim(-lim, lim); ax.set_zlim(0, lim * 1.1)\n",
    "    plt.show()\n",
    "\n",
    "# 5. Pirámide de base cuadrada ⛰️\n",
    "def plot_interactive_pyramid(side, height):\n",
    "    # Fórmula: V = (1/3) * l^2 * h\n",
    "    # El volumen es un tercio del área de la base (lado al cuadrado) por la altura.\n",
    "    volume = (1/3) * side**2 * height\n",
    "    s2 = side / 2\n",
    "    points = np.array([[-s2,-s2,0],[s2,-s2,0],[s2,s2,0],[-s2,s2,0],[0,0,height]])\n",
    "    faces = [[points[0],points[1],points[4]],[points[1],points[2],points[4]],[points[2],points[3],points[4]],[points[3],points[0],points[4]],[points[0],points[1],points[2],points[3]]]\n",
    "    fig = plt.figure(figsize=(7, 7)); ax = fig.add_subplot(111, projection='3d')\n",
    "    ax.add_collection3d(Poly3DCollection(faces, facecolors='sienna', linewidths=1, edgecolors='k', alpha=0.7))\n",
    "    ax.set_title(f\"Pirámide Base Cuadrada\\nLado = {side:.2f}, Altura = {height:.2f} | Volumen = {volume:.2f}\")\n",
    "    ax.set_xlabel('X'); ax.set_ylabel('Y'); ax.set_zlabel('Z')\n",
    "    lim = max(side, height)\n",
    "    ax.set_xlim(-lim, lim); ax.set_ylim(-lim, lim); ax.set_zlim(0, lim * 1.1)\n",
    "    plt.show()"
   ]
  },
  {
   "cell_type": "code",
   "execution_count": 15,
   "id": "0a6f841f",
   "metadata": {},
   "outputs": [
    {
     "data": {
      "application/vnd.jupyter.widget-view+json": {
       "model_id": "ffc191e1e4d046449581f4b4c7345cf4",
       "version_major": 2,
       "version_minor": 0
      },
      "text/plain": [
       "interactive(children=(FloatSlider(value=5.0, description='Radio:', max=15.0, min=1.0, step=0.5), Output()), _d…"
      ]
     },
     "metadata": {},
     "output_type": "display_data"
    }
   ],
   "source": [
    "interact(plot_interactive_circle, radius=FloatSlider(min=1, max=15, step=0.5, value=5, description='Radio:'));"
   ]
  },
  {
   "cell_type": "code",
   "execution_count": null,
   "id": "f015c03b",
   "metadata": {},
   "outputs": [
    {
     "data": {
      "application/vnd.jupyter.widget-view+json": {
       "model_id": "e2f10ef23ffb48ecb92dfb8061141573",
       "version_major": 2,
       "version_minor": 0
      },
      "text/plain": [
       "interactive(children=(FloatSlider(value=10.0, description='Lado:', max=20.0, min=1.0, step=1.0), Output()), _d…"
      ]
     },
     "metadata": {},
     "output_type": "display_data"
    }
   ],
   "source": [
    "interact(plot_interactive_square, side=FloatSlider(min=1, max=20, step=1, value=10, description='Lado:'));"
   ]
  },
  {
   "cell_type": "code",
   "execution_count": 17,
   "id": "e6280271",
   "metadata": {},
   "outputs": [
    {
     "data": {
      "application/vnd.jupyter.widget-view+json": {
       "model_id": "572815088d4b443dbf5ef4c310b65cc1",
       "version_major": 2,
       "version_minor": 0
      },
      "text/plain": [
       "interactive(children=(FloatSlider(value=12.0, description='Base:', max=20.0, min=1.0, step=1.0), FloatSlider(v…"
      ]
     },
     "metadata": {},
     "output_type": "display_data"
    }
   ],
   "source": [
    "interact(plot_interactive_rectangle, base=FloatSlider(min=1, max=20, step=1, value=12, description='Base:'), height=FloatSlider(min=1, max=20, step=1, value=8, description='Altura:'));"
   ]
  },
  {
   "cell_type": "code",
   "execution_count": null,
   "id": "84c5b4f8",
   "metadata": {},
   "outputs": [
    {
     "data": {
      "application/vnd.jupyter.widget-view+json": {
       "model_id": "11b7b04c00de43228a345b1040eff015",
       "version_major": 2,
       "version_minor": 0
      },
      "text/plain": [
       "interactive(children=(FloatSlider(value=10.0, description='Base:', max=20.0, min=1.0, step=1.0), FloatSlider(v…"
      ]
     },
     "metadata": {},
     "output_type": "display_data"
    }
   ],
   "source": [
    "interact(plot_interactive_triangle, base=FloatSlider(min=1, max=20, step=1, value=10, description='Base:'), height=FloatSlider(min=1, max=20, step=1, value=7, description='Altura:'));"
   ]
  },
  {
   "cell_type": "code",
   "execution_count": 19,
   "id": "e6090ecc",
   "metadata": {},
   "outputs": [
    {
     "data": {
      "application/vnd.jupyter.widget-view+json": {
       "model_id": "eb000f8c52da4e79af9f4ec0f14d3dae",
       "version_major": 2,
       "version_minor": 0
      },
      "text/plain": [
       "interactive(children=(FloatSlider(value=15.0, description='Diag. Mayor:', max=20.0, min=2.0, step=1.0), FloatS…"
      ]
     },
     "metadata": {},
     "output_type": "display_data"
    }
   ],
   "source": [
    "interact(plot_interactive_rhombus, d_major=FloatSlider(min=2, max=20, step=1, value=15, description='Diag. Mayor:'), d_minor=FloatSlider(min=1, max=18, step=1, value=10, description='Diag. Menor:'));"
   ]
  },
  {
   "cell_type": "code",
   "execution_count": 20,
   "id": "244a7ac4",
   "metadata": {},
   "outputs": [
    {
     "name": "stdout",
     "output_type": "stream",
     "text": [
      "\n",
      "--- SÓLIDOS REGULARES ---\n"
     ]
    }
   ],
   "source": [
    "print(\"\\n--- SÓLIDOS REGULARES ---\")"
   ]
  },
  {
   "cell_type": "code",
   "execution_count": 21,
   "id": "bf7130cc",
   "metadata": {},
   "outputs": [
    {
     "data": {
      "application/vnd.jupyter.widget-view+json": {
       "model_id": "8690457d6c01465a83891746bf7ba676",
       "version_major": 2,
       "version_minor": 0
      },
      "text/plain": [
       "interactive(children=(FloatSlider(value=5.0, description='Lado:', max=10.0, min=1.0, step=0.5), Output()), _do…"
      ]
     },
     "metadata": {},
     "output_type": "display_data"
    }
   ],
   "source": [
    "interact(plot_interactive_cube, side=FloatSlider(min=1, max=10, step=0.5, value=5, description='Lado:'));"
   ]
  },
  {
   "cell_type": "code",
   "execution_count": null,
   "id": "3c9ab037",
   "metadata": {},
   "outputs": [
    {
     "data": {
      "application/vnd.jupyter.widget-view+json": {
       "model_id": "856ed4fb5d0f4eaf8362266296abb7cb",
       "version_major": 2,
       "version_minor": 0
      },
      "text/plain": [
       "interactive(children=(FloatSlider(value=4.0, description='Radio:', max=10.0, min=1.0, step=0.5), Output()), _d…"
      ]
     },
     "metadata": {},
     "output_type": "display_data"
    }
   ],
   "source": [
    "interact(plot_interactive_sphere, radius=FloatSlider(min=1, max=10, step=0.5, value=4, description='Radio:'));"
   ]
  },
  {
   "cell_type": "code",
   "execution_count": null,
   "id": "cf7af4b3",
   "metadata": {},
   "outputs": [
    {
     "data": {
      "application/vnd.jupyter.widget-view+json": {
       "model_id": "3ec93972b1cd41d594bdeee5aeb53ac3",
       "version_major": 2,
       "version_minor": 0
      },
      "text/plain": [
       "interactive(children=(FloatSlider(value=4.0, description='Radio:', max=10.0, min=1.0, step=0.5), FloatSlider(v…"
      ]
     },
     "metadata": {},
     "output_type": "display_data"
    }
   ],
   "source": [
    "interact(plot_interactive_cylinder, radius=FloatSlider(min=1, max=10, step=0.5, value=4, description='Radio:'), height=FloatSlider(min=1, max=15, step=1, value=8, description='Altura:'));"
   ]
  },
  {
   "cell_type": "code",
   "execution_count": null,
   "id": "a1ed5ba8",
   "metadata": {},
   "outputs": [
    {
     "data": {
      "application/vnd.jupyter.widget-view+json": {
       "model_id": "92b13b21ab2d407d929fb2b319562b80",
       "version_major": 2,
       "version_minor": 0
      },
      "text/plain": [
       "interactive(children=(FloatSlider(value=5.0, description='Radio:', max=10.0, min=1.0, step=0.5), FloatSlider(v…"
      ]
     },
     "metadata": {},
     "output_type": "display_data"
    }
   ],
   "source": [
    "interact(plot_interactive_cone, radius=FloatSlider(min=1, max=10, step=0.5, value=5, description='Radio:'), height=FloatSlider(min=1, max=15, step=1, value=10, description='Altura:'));"
   ]
  },
  {
   "cell_type": "code",
   "execution_count": null,
   "id": "1e2ad65c",
   "metadata": {},
   "outputs": [
    {
     "data": {
      "application/vnd.jupyter.widget-view+json": {
       "model_id": "c6fadd57f9e74ac4a6ebbbc828e75fd9",
       "version_major": 2,
       "version_minor": 0
      },
      "text/plain": [
       "interactive(children=(FloatSlider(value=8.0, description='Lado Base:', max=15.0, min=1.0, step=1.0), FloatSlid…"
      ]
     },
     "metadata": {},
     "output_type": "display_data"
    }
   ],
   "source": [
    "interact(plot_interactive_pyramid, side=FloatSlider(min=1, max=15, step=1, value=8, description='Lado Base:'), height=FloatSlider(min=1, max=15, step=1, value=10, description='Altura:'));"
   ]
  },
  {
   "cell_type": "markdown",
   "id": "d46c3c08",
   "metadata": {},
   "source": [
    "## Figuras Planas y Sólidos Regulares - Fórmulas Interactivas\n",
    "\n",
    "### Figuras Planas\n",
    "- **Círculo**: Área = π × radio²  \n",
    "- **Cuadrado**: Área = lado × lado  \n",
    "- **Rectángulo**: Área = base × altura  \n",
    "- **Triángulo**: Área = (base × altura) / 2  \n",
    "- **Rombo**: Área = (diagonal mayor × diagonal menor) / 2  \n",
    "\n",
    "### Sólidos Regulares\n",
    "- **Cubo**: Volumen = lado × lado × lado  \n",
    "- **Esfera**: Volumen = (4/3) × π × radio³  \n",
    "- **Cilindro**: Volumen = π × radio² × altura  \n",
    "- **Cono**: Volumen = (1/3) × π × radio² × altura  \n",
    "- **Pirámide de base cuadrada**: Volumen = (1/3) × lado² × altura  "
   ]
  },
  {
   "cell_type": "markdown",
   "id": "ae5b7903",
   "metadata": {},
   "source": [
    "## Conclusiones\n",
    "\n",
    "- Se representaron correctamente **5 figuras planas** y **5 sólidos regulares** utilizando Python.\n",
    "- Para cada figura se mostró su **fórmula matemática**, se realizó el **cálculo automático** del área o volumen con valores de ejemplo y se presentó una **visualización gráfica estática o 3D**.\n",
    "- La implementación permite cambiar fácilmente los valores para observar cómo afecta al área o volumen, lo que facilita el **aprendizaje interactivo**.\n",
    "- Se usaron herramientas de visualización como `matplotlib` para gráficos 2D y 3D, promoviendo una mejor comprensión de las propiedades geométricas.\n",
    "- Este enfoque combina la **matemática**, la **programación** y la **visualización**, ideal para exposiciones educativas, proyectos escolares o desarrollo de software educativo."
   ]
  }
 ],
 "metadata": {
  "kernelspec": {
   "display_name": "Python 3",
   "language": "python",
   "name": "python3"
  },
  "language_info": {
   "codemirror_mode": {
    "name": "ipython",
    "version": 3
   },
   "file_extension": ".py",
   "mimetype": "text/x-python",
   "name": "python",
   "nbconvert_exporter": "python",
   "pygments_lexer": "ipython3",
   "version": "3.13.5"
  }
 },
 "nbformat": 4,
 "nbformat_minor": 5
}
